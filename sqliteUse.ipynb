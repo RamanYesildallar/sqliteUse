{
 "cells": [
  {
   "cell_type": "code",
   "execution_count": 69,
   "id": "f6f8c4b9",
   "metadata": {},
   "outputs": [],
   "source": [
    "import sqlite3"
   ]
  },
  {
   "cell_type": "code",
   "execution_count": 70,
   "id": "86292e2e",
   "metadata": {},
   "outputs": [],
   "source": [
    "con = sqlite3.connect(\"kütüphane.db\") "
   ]
  },
  {
   "cell_type": "code",
   "execution_count": 71,
   "id": "2c275834",
   "metadata": {},
   "outputs": [],
   "source": [
    "cursor=con.cursor()\n",
    "\n"
   ]
  },
  {
   "cell_type": "code",
   "execution_count": 72,
   "id": "cda663ba",
   "metadata": {},
   "outputs": [],
   "source": [
    "def create_table():\n",
    "    con.execute(\"CREATE TABLE IF NOT EXISTs Words(word TEXT,mean TEXT,sentences text)\")\n",
    "    con.commit()"
   ]
  },
  {
   "cell_type": "code",
   "execution_count": 73,
   "id": "f5f1d876",
   "metadata": {},
   "outputs": [],
   "source": [
    "create_table()"
   ]
  },
  {
   "cell_type": "code",
   "execution_count": 74,
   "id": "2aaea86e",
   "metadata": {},
   "outputs": [],
   "source": [
    "def ad_words():\n",
    "    word=input(\"write word:\")\n",
    "    mean=input(\"write mean:\")\n",
    "    sentence=input(\"write a sentence about word:\")\n",
    "    cursor.execute(f\"insert into Words values('{word}','{mean}', '{sentence}')\")\n",
    "    con.commit()\n",
    "\n",
    "            \n",
    "    \n",
    "    \n",
    "    "
   ]
  },
  {
   "cell_type": "code",
   "execution_count": 75,
   "id": "09de7d9b",
   "metadata": {},
   "outputs": [
    {
     "name": "stdout",
     "output_type": "stream",
     "text": [
      "write word:je\n",
      "write mean:ı\n",
      "write sentence tab the q to finishje suis etudient\n",
      "write a sentence about word:je suis kurd\n"
     ]
    }
   ],
   "source": [
    "ad_words()\n"
   ]
  },
  {
   "cell_type": "code",
   "execution_count": 83,
   "id": "860e4609",
   "metadata": {},
   "outputs": [],
   "source": [
    "def take_info():\n",
    "    cursor.execute(\"SELECT *FROM Words\")\n",
    "    my_lib=list(cursor.fetchall())\n",
    "    for element in my_lib:\n",
    "        print(f\"the info: {element} \")\n",
    "    "
   ]
  },
  {
   "cell_type": "code",
   "execution_count": 84,
   "id": "7efc90ee",
   "metadata": {},
   "outputs": [
    {
     "name": "stdout",
     "output_type": "stream",
     "text": [
      "the info: ('je', 'ı', 'je suis français') \n",
      "the info: ('tu', 'you', 'tu es') \n",
      "the info: ('parle', 'speak', 'tu parles français') \n",
      "the info: ('il', 'he', 'q') \n",
      "the info: ('je', 'ı', 'je suis kurd') \n"
     ]
    }
   ],
   "source": [
    "take_info()"
   ]
  },
  {
   "cell_type": "code",
   "execution_count": 91,
   "id": "5da22506",
   "metadata": {},
   "outputs": [],
   "source": [
    "def take_word():\n",
    "    cursor.execute(\"SELECT word FROM Words\")\n",
    "    my_word=list(cursor.fetchall())\n",
    "    for w in my_word:\n",
    "        print(w)"
   ]
  },
  {
   "cell_type": "code",
   "execution_count": 92,
   "id": "e8b567ce",
   "metadata": {},
   "outputs": [
    {
     "name": "stdout",
     "output_type": "stream",
     "text": [
      "('je',)\n",
      "('tu',)\n",
      "('parle',)\n",
      "('il',)\n",
      "('je',)\n"
     ]
    }
   ],
   "source": [
    "take_word()"
   ]
  },
  {
   "cell_type": "code",
   "execution_count": 93,
   "id": "68ded09b",
   "metadata": {},
   "outputs": [],
   "source": [
    "def take_mean():\n",
    "    cursor.execute(\"SELECT mean FROM Words\")\n",
    "    my_mean=list(cursor.fetchall())\n",
    "    for m in my_mean:\n",
    "        print(m)"
   ]
  },
  {
   "cell_type": "code",
   "execution_count": 95,
   "id": "6bb5907e",
   "metadata": {},
   "outputs": [
    {
     "name": "stdout",
     "output_type": "stream",
     "text": [
      "('ı',)\n",
      "('you',)\n",
      "('speak',)\n",
      "('he',)\n",
      "('ı',)\n"
     ]
    }
   ],
   "source": [
    "take_mean()"
   ]
  },
  {
   "cell_type": "code",
   "execution_count": 99,
   "id": "b7644b58",
   "metadata": {},
   "outputs": [],
   "source": [
    "def take_sentence():\n",
    "    cursor.execute(\"SELECT sentences FROM Words\")\n",
    "    my_sentence=list(cursor.fetchall())\n",
    "    for s in my_sentence:\n",
    "        print(s)\n",
    "    "
   ]
  },
  {
   "cell_type": "code",
   "execution_count": 104,
   "id": "c74f2e3f",
   "metadata": {},
   "outputs": [
    {
     "name": "stdout",
     "output_type": "stream",
     "text": [
      "('je suis français',)\n",
      "('tu es',)\n",
      "('tu parles français',)\n",
      "('q',)\n",
      "('je suis kurd',)\n"
     ]
    }
   ],
   "source": [
    "take_sentence()"
   ]
  },
  {
   "cell_type": "code",
   "execution_count": 107,
   "id": "ad14aa99",
   "metadata": {},
   "outputs": [],
   "source": [
    "def update_data():\n",
    "    old=input(\"current sentence:\")\n",
    "    new=input(\"input new sentence:\")\n",
    "    cursor.execute(f\"Update Words set sentences = '{new}' where sentences= '{old}' \")\n",
    "    con.commit()"
   ]
  },
  {
   "cell_type": "code",
   "execution_count": 111,
   "id": "a01c6c58",
   "metadata": {},
   "outputs": [
    {
     "name": "stdout",
     "output_type": "stream",
     "text": [
      "current sentencetu es\n",
      "input new sentencetu parles français\n"
     ]
    }
   ],
   "source": [
    "update_data()"
   ]
  },
  {
   "cell_type": "code",
   "execution_count": 120,
   "id": "a7237428",
   "metadata": {},
   "outputs": [],
   "source": [
    "def delete_word():\n",
    "    deleted_word=input(\"write the word which you want to delete:\")\n",
    "    cursor.execute(\"Delete From Words where word=?\",(deleted_word,))\n",
    "    con.commit()"
   ]
  },
  {
   "cell_type": "code",
   "execution_count": 121,
   "id": "8d7d89e7",
   "metadata": {},
   "outputs": [
    {
     "name": "stdout",
     "output_type": "stream",
     "text": [
      "write the word which you want to delete:je\n"
     ]
    }
   ],
   "source": [
    "delete_word()"
   ]
  },
  {
   "cell_type": "code",
   "execution_count": null,
   "id": "4ddbeb19",
   "metadata": {},
   "outputs": [],
   "source": []
  }
 ],
 "metadata": {
  "kernelspec": {
   "display_name": "Python 3 (ipykernel)",
   "language": "python",
   "name": "python3"
  },
  "language_info": {
   "codemirror_mode": {
    "name": "ipython",
    "version": 3
   },
   "file_extension": ".py",
   "mimetype": "text/x-python",
   "name": "python",
   "nbconvert_exporter": "python",
   "pygments_lexer": "ipython3",
   "version": "3.10.9"
  }
 },
 "nbformat": 4,
 "nbformat_minor": 5
}
